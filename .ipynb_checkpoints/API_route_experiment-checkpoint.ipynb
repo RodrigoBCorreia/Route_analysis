{
 "cells": [
  {
   "cell_type": "code",
   "execution_count": 1,
   "id": "1b6f336d-27f5-4718-8857-63fedb55af0e",
   "metadata": {},
   "outputs": [],
   "source": [
    "import requests\n",
    "import psycopg2\n",
    "import socket\n",
    "import json\n",
    "from datetime import datetime\n",
    "import os"
   ]
  },
  {
   "cell_type": "code",
   "execution_count": 5,
   "id": "aa4334ed-32de-44dd-b4fd-317031c6d086",
   "metadata": {},
   "outputs": [
    {
     "name": "stdout",
     "output_type": "stream",
     "text": [
      "🟡 A ligar ao Supabase...\n",
      "✅ Ligação estabelecida com sucesso!\n",
      "🕒 Hora atual no servidor: (datetime.datetime(2025, 5, 17, 22, 2, 20, 21948, tzinfo=datetime.timezone.utc),)\n",
      "🔒 Ligação fechada.\n"
     ]
    }
   ],
   "source": [
    "\n",
    "# Substitui com os teus dados reais\n",
    "# HOST = \"db.nhbyslgfifrxsubejasw.supabase.co\"\n",
    "# # DB = \"postgres\"\n",
    "# USER = \"postgres\"\n",
    "# PASSWORD = \"Database_99_!_route\"  # Substitui por completo\n",
    "# PORT = \"5432\"\n",
    "\n",
    "HOST = os.environ['DB_HOST']\n",
    "DB = os.environ['DB_NAME']\n",
    "USER = os.environ['DB_USER']\n",
    "PASSWORD = os.environ['DB_PASSWORD']\n",
    "PORT = os.environ['DB_PORT']\n",
    "\n",
    "try:\n",
    "    print(\"🟡 A ligar ao Supabase...\")\n",
    "    connection = psycopg2.connect(\n",
    "        host=HOST,\n",
    "        database=DB,\n",
    "        user=USER,\n",
    "        password=PASSWORD,\n",
    "        port=PORT,\n",
    "        sslmode='require'\n",
    "    )\n",
    "\n",
    "    print(\"✅ Ligação estabelecida com sucesso!\")\n",
    "\n",
    "    cursor = connection.cursor()\n",
    "    cursor.execute(\"SELECT NOW();\")\n",
    "    resultado = cursor.fetchone()\n",
    "    print(\"🕒 Hora atual no servidor:\", resultado)\n",
    "\n",
    "    cursor.close()\n",
    "    connection.close()\n",
    "    print(\"🔒 Ligação fechada.\")\n",
    "\n",
    "except Exception as e:\n",
    "    print(\"❌ Erro ao ligar à base de dados:\", e)\n"
   ]
  },
  {
   "cell_type": "code",
   "execution_count": 9,
   "id": "9b903f6c-3a91-40ff-8094-a8f0cc934e21",
   "metadata": {},
   "outputs": [
    {
     "name": "stdout",
     "output_type": "stream",
     "text": [
      "🟡 A ligar ao Supabase...\n",
      "✅ Ligação estabelecida com sucesso!\n",
      "🕒 Hora atual no servidor: (datetime.datetime(2025, 5, 17, 22, 3, 7, 76992, tzinfo=datetime.timezone.utc),)\n"
     ]
    }
   ],
   "source": [
    "#Connect to the server\n",
    "\n",
    "print(\"🟡 A ligar ao Supabase...\")\n",
    "connection = psycopg2.connect(\n",
    "    host=HOST,\n",
    "    database=DB,\n",
    "    user=USER,\n",
    "    password=PASSWORD,\n",
    "    port=PORT\n",
    ")\n",
    "\n",
    "print(\"✅ Ligação estabelecida com sucesso!\")\n",
    "\n",
    "cursor = connection.cursor()\n",
    "cursor.execute(\"SELECT NOW();\")\n",
    "resultado = cursor.fetchone()\n",
    "print(\"🕒 Hora atual no servidor:\", resultado)\n"
   ]
  },
  {
   "cell_type": "code",
   "execution_count": 10,
   "id": "14f95905-dd0a-44be-8dc1-5104754c5584",
   "metadata": {},
   "outputs": [
    {
     "name": "stdout",
     "output_type": "stream",
     "text": [
      "✅ Departure flights fetched successfully.\n",
      "✅ Arrival flights fetched successfully.\n",
      "✅ 460 departure flights saved to the database.\n",
      "✅ 511 arrival flights saved to the database.\n",
      "🔒 Database connection closed.\n"
     ]
    }
   ],
   "source": [
    "API_KEY = os.environ['API_KEY']  # Replace with your actual API key\n",
    "AIRPORT = 'LIS'\n",
    "\n",
    "def get_flights(flight_type):\n",
    "    url = f'https://aviation-edge.com/v2/public/timetable?key={API_KEY}&iataCode={AIRPORT}&type={flight_type}'\n",
    "    response = requests.get(url)\n",
    "\n",
    "    if response.status_code == 200:\n",
    "        print(f\"✅ {flight_type.capitalize()} flights fetched successfully.\")\n",
    "        return response.json()\n",
    "    else:\n",
    "        print(f\"❌ Failed to fetch {flight_type} flights ({response.status_code}): {response.text}\")\n",
    "        return []\n",
    "\n",
    "def save_flights(flights, flight_type):\n",
    "    today = datetime.now().date()\n",
    "    total = 0\n",
    "\n",
    "    for flight in flights:\n",
    "        try:\n",
    "            cursor.execute('''\n",
    "                INSERT INTO flights_2 (\n",
    "                    flight_number, airline_iata, airline_name,\n",
    "                    dep_iata, dep_time, arr_iata, arr_time,\n",
    "                    reg_number, status, direction, fetch_date\n",
    "                ) VALUES (%s, %s, %s, %s, %s, %s, %s, %s, %s, %s, %s)\n",
    "            ''', (\n",
    "                flight.get('flight', {}).get('iataNumber', ''),\n",
    "                flight.get('airline', {}).get('iataCode', ''),\n",
    "                flight.get('airline', {}).get('name', ''),\n",
    "                flight.get('departure', {}).get('iataCode', ''),\n",
    "                flight.get('departure', {}).get('scheduledTime', None),\n",
    "                flight.get('arrival', {}).get('iataCode', ''),\n",
    "                flight.get('arrival', {}).get('scheduledTime', None),\n",
    "                flight.get('regNumber', ''),\n",
    "                flight.get('status', ''),\n",
    "                flight_type,\n",
    "                today\n",
    "            ))\n",
    "            total += 1\n",
    "        except Exception as e:\n",
    "            print(f\"⚠️ Error inserting flight {flight.get('flight', {}).get('iataNumber', 'UNKNOWN')}: {e}\")\n",
    "            connection.rollback()  # rolled back on error\n",
    "\n",
    "    connection.commit()\n",
    "    print(f\"✅ {total} {flight_type} flights saved to the database.\")\n",
    "\n",
    "\n",
    "# 🚀 Fetch and store flights\n",
    "departures = get_flights('departure')\n",
    "arrivals = get_flights('arrival')\n",
    "\n",
    "save_flights(departures, 'departure')\n",
    "save_flights(arrivals, 'arrival')\n",
    "\n",
    "cursor.close()\n",
    "connection.close()\n",
    "print(\"🔒 Database connection closed.\")\n"
   ]
  },
  {
   "cell_type": "code",
   "execution_count": null,
   "id": "e97a67a4-3c20-449e-880b-778107247a94",
   "metadata": {},
   "outputs": [],
   "source": []
  }
 ],
 "metadata": {
  "kernelspec": {
   "display_name": "Python 3 (ipykernel)",
   "language": "python",
   "name": "python3"
  },
  "language_info": {
   "codemirror_mode": {
    "name": "ipython",
    "version": 3
   },
   "file_extension": ".py",
   "mimetype": "text/x-python",
   "name": "python",
   "nbconvert_exporter": "python",
   "pygments_lexer": "ipython3",
   "version": "3.13.2"
  }
 },
 "nbformat": 4,
 "nbformat_minor": 5
}
